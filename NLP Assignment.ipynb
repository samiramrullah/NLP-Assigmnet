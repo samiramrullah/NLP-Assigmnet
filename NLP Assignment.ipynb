{
 "cells": [
  {
   "cell_type": "markdown",
   "metadata": {},
   "source": [
    "# 21st September (Lab assignmnet)"
   ]
  },
  {
   "cell_type": "code",
   "execution_count": 47,
   "metadata": {},
   "outputs": [],
   "source": [
    "import spacy"
   ]
  },
  {
   "cell_type": "code",
   "execution_count": 48,
   "metadata": {},
   "outputs": [],
   "source": [
    "nlp=spacy.load('en_core_web_sm')"
   ]
  },
  {
   "cell_type": "code",
   "execution_count": 49,
   "metadata": {},
   "outputs": [],
   "source": [
    "untokenized=''' Processing Tesla, Tesla Inc. is an American multinational automotive and clean energy company headquartered in Austin, Texas. Tesla designs and manufactures electric vehicles, battery energy storage from home to grid-scale, solar panels and solar roof tiles, and related products and services'''"
   ]
  },
  {
   "cell_type": "code",
   "execution_count": 50,
   "metadata": {},
   "outputs": [],
   "source": [
    "tokens=nlp(untokenized)"
   ]
  },
  {
   "cell_type": "code",
   "execution_count": 51,
   "metadata": {},
   "outputs": [],
   "source": [
    "count=0"
   ]
  },
  {
   "cell_type": "code",
   "execution_count": 52,
   "metadata": {},
   "outputs": [],
   "source": [
    "for token in tokens:\n",
    "    count+=1"
   ]
  },
  {
   "cell_type": "code",
   "execution_count": 53,
   "metadata": {},
   "outputs": [
    {
     "data": {
      "text/plain": [
       "50"
      ]
     },
     "execution_count": 53,
     "metadata": {},
     "output_type": "execute_result"
    }
   ],
   "source": [
    "count"
   ]
  },
  {
   "cell_type": "code",
   "execution_count": 54,
   "metadata": {},
   "outputs": [
    {
     "name": "stdout",
     "output_type": "stream",
     "text": [
      "SPACE\n",
      "PROPN\n",
      "PROPN\n",
      "PUNCT\n",
      "PROPN\n",
      "PROPN\n",
      "AUX\n",
      "DET\n",
      "ADJ\n",
      "ADJ\n",
      "ADJ\n",
      "CCONJ\n",
      "ADJ\n",
      "NOUN\n",
      "NOUN\n",
      "VERB\n",
      "ADP\n",
      "PROPN\n",
      "PUNCT\n",
      "PROPN\n",
      "PUNCT\n",
      "PROPN\n",
      "VERB\n",
      "CCONJ\n",
      "VERB\n",
      "ADJ\n",
      "NOUN\n",
      "PUNCT\n",
      "NOUN\n",
      "NOUN\n",
      "NOUN\n",
      "ADP\n",
      "NOUN\n",
      "ADP\n",
      "NOUN\n",
      "PUNCT\n",
      "NOUN\n",
      "PUNCT\n",
      "ADJ\n",
      "NOUN\n",
      "CCONJ\n",
      "ADJ\n",
      "NOUN\n",
      "NOUN\n",
      "PUNCT\n",
      "CCONJ\n",
      "ADJ\n",
      "NOUN\n",
      "CCONJ\n",
      "NOUN\n"
     ]
    }
   ],
   "source": [
    "for token in tokens:\n",
    "    print(token.pos_)"
   ]
  },
  {
   "cell_type": "code",
   "execution_count": 55,
   "metadata": {},
   "outputs": [
    {
     "data": {
      "text/plain": [
       "{'Number': 'Sing'}"
      ]
     },
     "execution_count": 55,
     "metadata": {},
     "output_type": "execute_result"
    }
   ],
   "source": [
    "tokens[1].morph.to_dict()"
   ]
  },
  {
   "cell_type": "code",
   "execution_count": 67,
   "metadata": {},
   "outputs": [
    {
     "ename": "SyntaxError",
     "evalue": "invalid syntax (<ipython-input-67-b44c3779dae2>, line 6)",
     "output_type": "error",
     "traceback": [
      "\u001b[1;36m  File \u001b[1;32m\"<ipython-input-67-b44c3779dae2>\"\u001b[1;36m, line \u001b[1;32m6\u001b[0m\n\u001b[1;33m    freq{i:1}\u001b[0m\n\u001b[1;37m        ^\u001b[0m\n\u001b[1;31mSyntaxError\u001b[0m\u001b[1;31m:\u001b[0m invalid syntax\n"
     ]
    }
   ],
   "source": [
    "freq = {}\n",
    "for i in tokens:\n",
    "    if i in freq:\n",
    "        pass\n",
    "    else:\n",
    "        freq{i:1}"
   ]
  },
  {
   "cell_type": "code",
   "execution_count": 63,
   "metadata": {},
   "outputs": [
    {
     "data": {
      "text/plain": [
       "{ : 1,\n",
       " Processing: 1,\n",
       " Tesla: 1,\n",
       " ,: 1,\n",
       " Tesla: 1,\n",
       " Inc.: 1,\n",
       " is: 1,\n",
       " an: 1,\n",
       " American: 1,\n",
       " multinational: 1,\n",
       " automotive: 1,\n",
       " and: 1,\n",
       " clean: 1,\n",
       " energy: 1,\n",
       " company: 1,\n",
       " headquartered: 1,\n",
       " in: 1,\n",
       " Austin: 1,\n",
       " ,: 1,\n",
       " Texas: 1,\n",
       " .: 1,\n",
       " Tesla: 1,\n",
       " designs: 1,\n",
       " and: 1,\n",
       " manufactures: 1,\n",
       " electric: 1,\n",
       " vehicles: 1,\n",
       " ,: 1,\n",
       " battery: 1,\n",
       " energy: 1,\n",
       " storage: 1,\n",
       " from: 1,\n",
       " home: 1,\n",
       " to: 1,\n",
       " grid: 1,\n",
       " -: 1,\n",
       " scale: 1,\n",
       " ,: 1,\n",
       " solar: 1,\n",
       " panels: 1,\n",
       " and: 1,\n",
       " solar: 1,\n",
       " roof: 1,\n",
       " tiles: 1,\n",
       " ,: 1,\n",
       " and: 1,\n",
       " related: 1,\n",
       " products: 1,\n",
       " and: 1,\n",
       " services: 1}"
      ]
     },
     "execution_count": 63,
     "metadata": {},
     "output_type": "execute_result"
    }
   ],
   "source": [
    "freq"
   ]
  },
  {
   "cell_type": "code",
   "execution_count": null,
   "metadata": {},
   "outputs": [],
   "source": [
    "def editDistance(str1, str2, m, n):\n",
    "    if m == 0:\n",
    "        return n\n",
    "    if n == 0:\n",
    "        return m\n",
    "    if str1[m-1] == str2[n-1]:\n",
    "          return editDistance(str1, str2, m-1, n-1)\n",
    "    return 1 + min(editDistance(str1, str2, m, n-1),\n",
    "               editDistance(str1, str2, m-1, n),\n",
    "               editDistance(str1, str2, m-1, n-1))\n",
    "str1=input(\"Enter the first word \")\n",
    "str2=input(\"Enter the second word \")\n",
    "print(f'''The minimum edit distance between the {str1} and {str2} is {editDistance(str1,str2,len(str1),len(str2))}''')"
   ]
  },
  {
   "cell_type": "code",
   "execution_count": null,
   "metadata": {},
   "outputs": [],
   "source": [
    "## to check if it's part of dictonary"
   ]
  },
  {
   "cell_type": "code",
   "execution_count": null,
   "metadata": {},
   "outputs": [],
   "source": [
    "dictionary = [\"Chandigarh\", \"Capital\", \"Punjab\", \"Delhi\", \"Capital\",\n",
    "              \"India\", \"Kathmandu\", \"Nepal\", \"Mountains\"]"
   ]
  },
  {
   "cell_type": "code",
   "execution_count": null,
   "metadata": {},
   "outputs": [],
   "source": [
    "string1=input(\"Enter the string you want to check \")"
   ]
  },
  {
   "cell_type": "code",
   "execution_count": null,
   "metadata": {},
   "outputs": [],
   "source": [
    "dis=dict()"
   ]
  },
  {
   "cell_type": "code",
   "execution_count": null,
   "metadata": {},
   "outputs": [],
   "source": [
    "for i in dictionary:\n",
    "    if(i==string1):\n",
    "        print('yes')\n",
    "        break"
   ]
  },
  {
   "cell_type": "code",
   "execution_count": null,
   "metadata": {},
   "outputs": [],
   "source": []
  },
  {
   "cell_type": "code",
   "execution_count": null,
   "metadata": {},
   "outputs": [],
   "source": [
    "## Tokenization without using libraries"
   ]
  },
  {
   "cell_type": "code",
   "execution_count": null,
   "metadata": {},
   "outputs": [],
   "source": [
    "special_characters = ['!','\"','#','$','%','&','(',')','*','+','/',':',';','<','=','>','@','[','\\\\',']','^','`','{','|','}','~','\\t']"
   ]
  },
  {
   "cell_type": "code",
   "execution_count": 5,
   "metadata": {},
   "outputs": [],
   "source": [
    "sentence='''Tesla, Inc. is an American multinational automotive and clean energy company headquartered in Austin, Texas. Tesla designs and manufactures electric vehicles, battery energy storage from home to grid-scale, solar panels and solar roof tiles, and related products and services'''"
   ]
  },
  {
   "cell_type": "code",
   "execution_count": null,
   "metadata": {},
   "outputs": [],
   "source": [
    "\n",
    "for i in special_characters : \n",
    "    sentence.replace(i, '')"
   ]
  },
  {
   "cell_type": "code",
   "execution_count": null,
   "metadata": {},
   "outputs": [],
   "source": [
    "sentence.split()"
   ]
  },
  {
   "cell_type": "code",
   "execution_count": null,
   "metadata": {},
   "outputs": [],
   "source": []
  },
  {
   "cell_type": "code",
   "execution_count": null,
   "metadata": {},
   "outputs": [],
   "source": []
  },
  {
   "cell_type": "code",
   "execution_count": 39,
   "metadata": {},
   "outputs": [
    {
     "name": "stdout",
     "output_type": "stream",
     "text": [
      "showing info https://raw.githubusercontent.com/nltk/nltk_data/gh-pages/index.xml\n"
     ]
    },
    {
     "data": {
      "text/plain": [
       "True"
      ]
     },
     "execution_count": 39,
     "metadata": {},
     "output_type": "execute_result"
    }
   ],
   "source": [
    "import nltk\n",
    "nltk.download()\n"
   ]
  },
  {
   "cell_type": "code",
   "execution_count": 40,
   "metadata": {},
   "outputs": [],
   "source": [
    "from nltk.corpus import words\n",
    "words = words.words()\n",
    "outfile = open(\"words\", \"w\")\n",
    "for word in words:\n",
    "    outfile.write(word+\"\\n\")\n",
    "outfile.close()"
   ]
  },
  {
   "cell_type": "code",
   "execution_count": 41,
   "metadata": {},
   "outputs": [
    {
     "name": "stderr",
     "output_type": "stream",
     "text": [
      "...........................................................\n",
      "...........................................................\n",
      "...........................................................\n",
      "...........................................................\n",
      "...........................................................\n",
      "...........................................................\n"
     ]
    }
   ],
   "source": [
    "import math\n",
    "import morfessor\n",
    "def log_func(x):\n",
    "    return int(round(math.log(x + 1, 2)))\n",
    "\n",
    "infile = \"words\"\n",
    "io = morfessor.MorfessorIO()\n",
    "train_data = list(io.read_corpus_file(infile))\n",
    "model = morfessor.BaselineModel()\n",
    "model.load_data(train_data, count_modifier=log_func)\n",
    "model.train_batch()\n",
    "io.write_binary_model_file(\"model.bin\", model)"
   ]
  },
  {
   "cell_type": "code",
   "execution_count": 46,
   "metadata": {},
   "outputs": [
    {
     "name": "stdout",
     "output_type": "stream",
     "text": [
      "Input word > invaluable\n",
      "['in', 'valuable']\n"
     ]
    }
   ],
   "source": [
    "import morfessor\n",
    "\n",
    "model_file = \"model.bin\"\n",
    "io = morfessor.MorfessorIO()\n",
    "model = io.read_binary_model_file(model_file)\n",
    "word = input(\"Input word > \")\n",
    "print(model.viterbi_segment(word)[0])"
   ]
  },
  {
   "cell_type": "code",
   "execution_count": null,
   "metadata": {},
   "outputs": [],
   "source": []
  }
 ],
 "metadata": {
  "kernelspec": {
   "display_name": "Python 3",
   "language": "python",
   "name": "python3"
  },
  "language_info": {
   "codemirror_mode": {
    "name": "ipython",
    "version": 3
   },
   "file_extension": ".py",
   "mimetype": "text/x-python",
   "name": "python",
   "nbconvert_exporter": "python",
   "pygments_lexer": "ipython3",
   "version": "3.9.7"
  }
 },
 "nbformat": 4,
 "nbformat_minor": 4
}
